{
 "cells": [
  {
   "cell_type": "markdown",
   "id": "5e5db391-d923-420a-b234-cf46ab0faf60",
   "metadata": {},
   "source": [
    "# Data Science Tools and Ecosystem"
   ]
  },
  {
   "cell_type": "markdown",
   "id": "2dbbb086-395c-477a-a5d6-22ec457b90a2",
   "metadata": {},
   "source": [
    "In this notebook, Data Science Tools and Ecosystem are summarized"
   ]
  },
  {
   "cell_type": "markdown",
   "id": "f2b45391-68e8-4086-9f46-2316440aee7c",
   "metadata": {},
   "source": [
    "Some of the popular data science languages that Data Scientists use are :\n",
    "Python\n",
    "R\n",
    "SQL\n",
    "C++\n",
    "Java etc..;\n"
   ]
  },
  {
   "cell_type": "markdown",
   "id": "a3466184-77b5-42c6-86bd-7347953cddcc",
   "metadata": {},
   "source": [
    "Some of the commonly used libraires are:\n",
    "TensorFlow\n",
    "Numpy\n",
    "Scipy\n",
    "Pandas\n",
    "Matplotlib\n",
    "Keras\n",
    "Scikit-Learn\n",
    "Pytorch etc"
   ]
  },
  {
   "cell_type": "markdown",
   "id": "e51f214a-8711-4497-967a-29c5307602ed",
   "metadata": {},
   "source": [
    "# Data Science Tools\n",
    "\n",
    "| **Category**          | **Tool**                           | **Description**                                                                 |\n",
    "|------------------------|-------------------------------------|---------------------------------------------------------------------------------|\n",
    "| Programming Languages  | Python, R, Julia                  | Widely used languages for data analysis and machine learning.                  |\n",
    "| Data Manipulation      | Pandas, dplyr, Apache Spark       | Libraries for data cleaning, transformation, and manipulation.                 |\n",
    "| Data Visualization     | Matplotlib, ggplot2, Tableau      | Tools for creating charts, graphs, and dashboards.                             |\n",
    "| Machine Learning       | Scikit-learn, TensorFlow, PyTorch | Frameworks for building and deploying machine learning models.                 |\n",
    "| Statistical Analysis   | SAS, SPSS                         | Software for advanced statistical modeling and analysis.                       |\n",
    "| Big Data Tools         | Hadoop, Apache Spark              | Tools for managing and processing large datasets.                              |\n",
    "| Data Storage           | SQL, MongoDB, AWS S3             | Solutions for storing structured and unstructured data.                        |\n",
    "| Collaboration          | Jupyter Notebook, Google Colab    | Interactive environments for writing and sharing code.                         |\n",
    "| Deployment             | Docker, Kubernetes, MLflow        | Tools for deploying machine learning models and managing workflows.            |\n"
   ]
  },
  {
   "cell_type": "markdown",
   "id": "f70fbdac-0eaa-43ab-8e75-5d9566b47ae4",
   "metadata": {},
   "source": [
    "### Below are the few examples of evaluating arthemetic expression in Pyhton."
   ]
  },
  {
   "cell_type": "code",
   "execution_count": 8,
   "id": "ad0acc9e-3365-415f-87f5-b5f3051504cb",
   "metadata": {},
   "outputs": [
    {
     "data": {
      "text/plain": [
       "150"
      ]
     },
     "execution_count": 8,
     "metadata": {},
     "output_type": "execute_result"
    }
   ],
   "source": [
    "#this is the common arthematic expression of  multiplying then add the interger\n",
    "(4*25)+50"
   ]
  },
  {
   "cell_type": "code",
   "execution_count": 6,
   "id": "b30c6978-3ebb-45a8-a3db-3764d3b8e43d",
   "metadata": {},
   "outputs": [
    {
     "name": "stdin",
     "output_type": "stream",
     "text": [
      "Enter the numbers to convert it into hours 200\n"
     ]
    },
    {
     "name": "stdout",
     "output_type": "stream",
     "text": [
      "3.3333333333333335\n"
     ]
    }
   ],
   "source": [
    "minutes = int(input(\"Enter the numbers to convert it into hours\"))\n",
    "hours=minutes/60;\n",
    "print(hours)"
   ]
  },
  {
   "cell_type": "markdown",
   "id": "aa04559a-6e5e-4244-8ff1-523347f7300b",
   "metadata": {},
   "source": [
    "_Objective_\n",
    "* List popplular language for Data Science\n",
    "* List popular libraries for Data Scinec\n",
    "* List of Well know Data Science Tool\n",
    "* How to provide comments in the cell"
   ]
  },
  {
   "cell_type": "markdown",
   "id": "52156215-01c8-480c-bd76-a6355aaa5d29",
   "metadata": {},
   "source": [
    "## Author\n",
    "Tanishq Rawat"
   ]
  },
  {
   "cell_type": "code",
   "execution_count": null,
   "id": "5686c1bb-7d93-422c-8384-0133d37b8e15",
   "metadata": {},
   "outputs": [],
   "source": []
  }
 ],
 "metadata": {
  "kernelspec": {
   "display_name": "Python 3 (ipykernel)",
   "language": "python",
   "name": "python3"
  },
  "language_info": {
   "codemirror_mode": {
    "name": "ipython",
    "version": 3
   },
   "file_extension": ".py",
   "mimetype": "text/x-python",
   "name": "python",
   "nbconvert_exporter": "python",
   "pygments_lexer": "ipython3",
   "version": "3.12.4"
  }
 },
 "nbformat": 4,
 "nbformat_minor": 5
}
